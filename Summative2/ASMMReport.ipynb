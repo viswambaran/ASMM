{
 "cells": [
  {
   "cell_type": "markdown",
   "metadata": {},
   "source": [
    "# Are referees bias towards the home team in the Premier League?"
   ]
  },
  {
   "cell_type": "markdown",
   "metadata": {},
   "source": [
    "# Dataset information \n",
    "\n",
    "Data taken from [https://www.football-data.co.uk](https://www.football-data.co.uk)\n",
    "\n",
    "Key to results data:  \n",
    "\n",
    "- Div = League Division\n",
    "- Date = Match Date (dd/mm/yy)\n",
    "- Time = Time of match kick off\n",
    "- HomeTeam = Home Team\n",
    "- AwayTeam = Away Team\n",
    "- FTHG and HG = Full Time Home Team Goals\n",
    "- FTAG and AG = Full Time Away Team Goals\n",
    "- FTR and Res = Full Time Result (H=Home Win, D=Draw, A=Away Win)\n",
    "- HTHG = Half Time Home Team Goals\n",
    "- HTAG = Half Time Away Team Goals\n",
    "- HTR = Half Time Result (H=Home Win, D=Draw, A=Away Win)  \n",
    "\n",
    "<u> **Match Statistics (where available)** </u>  \n",
    "- Attendance = Crowd Attendance\n",
    "- Referee = Match Referee\n",
    "- HS = Home Team Shots\n",
    "- AS = Away Team Shots\n",
    "- HST = Home Team Shots on Target\n",
    "- AST = Away Team Shots on Target\n",
    "- HHW = Home Team Hit Woodwork\n",
    "- AHW = Away Team Hit Woodwork\n",
    "- HC = Home Team Corners\n",
    "- AC = Away Team Corners\n",
    "- HF = Home Team Fouls Committed\n",
    "- AF = Away Team Fouls Committed\n",
    "- HFKC = Home Team Free Kicks Conceded\n",
    "- AFKC = Away Team Free Kicks Conceded\n",
    "- HO = Home Team Offsides\n",
    "- AO = Away Team Offsides\n",
    "- HY = Home Team Yellow Cards\n",
    "- AY = Away Team Yellow Cards\n",
    "- HR = Home Team Red Cards\n",
    "- AR = Away Team Red Cards\n",
    "- HBP = Home Team Bookings Points (10 = yellow, 25 = red)\n",
    "- ABP = Away Team Bookings Points (10 = yellow, 25 = red)\n",
    "\n",
    "*Note that Free Kicks Conceeded includes fouls, offsides and any other offense commmitted and will always be equal to or higher than the number of fouls. Fouls make up the vast majority of Free Kicks Conceded. Free Kicks Conceded are shown when specific data on Fouls are not available.*\n",
    "\n",
    "*Note also that English and Scottish yellow cards do not include the initial yellow card when a second is shown to a player converting it into a red, but this is included as a yellow (plus red) for European games.*\n"
   ]
  },
  {
   "cell_type": "code",
   "execution_count": 18,
   "metadata": {},
   "outputs": [
    {
     "data": {
      "text/plain": [
       "Date                  0\n",
       "HomeTeam              0\n",
       "AwayTeam              0\n",
       "FTHG                  0\n",
       "FTAG                  0\n",
       "FTR                   0\n",
       "HTHG                  0\n",
       "HTAG                  0\n",
       "HTR                   0\n",
       "Referee               0\n",
       "HS                    0\n",
       "AS                    0\n",
       "HST                   0\n",
       "AST                   0\n",
       "HF                    0\n",
       "AF                    0\n",
       "HC                    0\n",
       "AC                    0\n",
       "HY                    0\n",
       "AY                    0\n",
       "HR                    0\n",
       "AR                    0\n",
       "Season                0\n",
       "Total_Yellow_Cards    0\n",
       "Total_Red_Cards       0\n",
       "Total_Cards           0\n",
       "Total_Home_Cards      0\n",
       "Total_Away_Cards      0\n",
       "dtype: int64"
      ]
     },
     "execution_count": 18,
     "metadata": {},
     "output_type": "execute_result"
    }
   ],
   "source": [
    "# Importing packages ------------------------------------------------------\n",
    "\n",
    "import pandas as pd\n",
    "import numpy as np \n",
    "import os \n",
    "from plotnine import *\n",
    "import seaborn as sns\n",
    "from scipy import stats\n",
    "import matplotlib.pyplot as plt\n",
    "import plotly.express as px\n",
    "\n",
    "\n",
    "# Reading in data ------------------------------------------------------\n",
    "\n",
    "years = np.arange(5,23) \n",
    "years_1 = np.arange(6,24)\n",
    "\n",
    "## Convert to string and add trailing 0 \n",
    "## required for website url data is stored on \n",
    "\n",
    "years = years.astype(str)\n",
    "years = np.char.zfill(years, 2)\n",
    "\n",
    "years_1 = years_1.astype(str)\n",
    "years_1 = np.char.zfill(years_1, 2)\n",
    "\n",
    "## Combining to give out the final years\n",
    "url_years = np.core.defchararray.add(years, years_1)\n",
    "\n",
    "data_url_base = 'https://www.football-data.co.uk/mmz4281/{Year}/E0.csv'\n",
    "\n",
    "\n",
    "## Check if the data already exists locally (previously compiled incase of no internet)\n",
    "\n",
    "if os.path.exists(\"football_data.csv\"):\n",
    "    df = pd.read_csv(\"football_data.csv\", low_memory=False, index_col=False)\n",
    "else:\n",
    "    ## creating url list with all years needed\n",
    "    ## Also adding delimiter '/' between seasons for new column \n",
    "    data_urls_list = []\n",
    "    season = []\n",
    "    for year in url_years:\n",
    "        url_with_year = data_url_base.replace('{Year}', year)\n",
    "        season_year = year[:2] + '/' + year[2:]\n",
    "        season.append(season_year)\n",
    "        data_urls_list.append(url_with_year)\n",
    "\n",
    "    df_list =[] \n",
    "\n",
    "    for file in enumerate(data_urls_list):\n",
    "        df = pd.read_csv(file[1])\n",
    "        df['Season'] = season[file[0]]\n",
    "        df_list.append(df)\n",
    "    \n",
    "    df = pd.concat(df_list, ignore_index=True)\n",
    "\n",
    "cols_to_keep = ['Date','HomeTeam','AwayTeam','FTHG','FTAG','FTR','HTHG','HTAG','HTR','Referee','HS','AS','HST','AST','HF','AF','HC','AC','HY','AY','HR','AR','Season']\n",
    "\n",
    "df = df[cols_to_keep]\n",
    "\n",
    "df['Total_Yellow_Cards'] = df['HY'] + df['AY']\n",
    "df['Total_Red_Cards'] = df['HR'] + df['AR']\n",
    "df['Total_Cards'] = df['Total_Yellow_Cards'] + df['Total_Red_Cards']\n",
    "df['Total_Home_Cards'] = df['HY'] + df['HR']\n",
    "df['Total_Away_Cards'] = df['AY'] + df['AR']\n",
    "\n",
    "## Removing latest season as season not finished \n",
    "df = df[df.Season != \"22/23\"]\n",
    "\n",
    "df.dropna(inplace=True)\n",
    "df.isna().sum()"
   ]
  },
  {
   "cell_type": "markdown",
   "metadata": {},
   "source": [
    "## Data "
   ]
  },
  {
   "cell_type": "code",
   "execution_count": 19,
   "metadata": {},
   "outputs": [
    {
     "data": {
      "text/html": [
       "<div>\n",
       "<style scoped>\n",
       "    .dataframe tbody tr th:only-of-type {\n",
       "        vertical-align: middle;\n",
       "    }\n",
       "\n",
       "    .dataframe tbody tr th {\n",
       "        vertical-align: top;\n",
       "    }\n",
       "\n",
       "    .dataframe thead th {\n",
       "        text-align: right;\n",
       "    }\n",
       "</style>\n",
       "<table border=\"1\" class=\"dataframe\">\n",
       "  <thead>\n",
       "    <tr style=\"text-align: right;\">\n",
       "      <th></th>\n",
       "      <th>Date</th>\n",
       "      <th>HomeTeam</th>\n",
       "      <th>AwayTeam</th>\n",
       "      <th>FTHG</th>\n",
       "      <th>FTAG</th>\n",
       "      <th>FTR</th>\n",
       "      <th>HTHG</th>\n",
       "      <th>HTAG</th>\n",
       "      <th>HTR</th>\n",
       "      <th>Referee</th>\n",
       "      <th>...</th>\n",
       "      <th>HY</th>\n",
       "      <th>AY</th>\n",
       "      <th>HR</th>\n",
       "      <th>AR</th>\n",
       "      <th>Season</th>\n",
       "      <th>Total_Yellow_Cards</th>\n",
       "      <th>Total_Red_Cards</th>\n",
       "      <th>Total_Cards</th>\n",
       "      <th>Total_Home_Cards</th>\n",
       "      <th>Total_Away_Cards</th>\n",
       "    </tr>\n",
       "  </thead>\n",
       "  <tbody>\n",
       "    <tr>\n",
       "      <th>0</th>\n",
       "      <td>13/08/05</td>\n",
       "      <td>Aston Villa</td>\n",
       "      <td>Bolton</td>\n",
       "      <td>2.0</td>\n",
       "      <td>2.0</td>\n",
       "      <td>D</td>\n",
       "      <td>2.0</td>\n",
       "      <td>2.0</td>\n",
       "      <td>D</td>\n",
       "      <td>M Riley</td>\n",
       "      <td>...</td>\n",
       "      <td>0.0</td>\n",
       "      <td>2.0</td>\n",
       "      <td>0.0</td>\n",
       "      <td>0.0</td>\n",
       "      <td>05/06</td>\n",
       "      <td>2.0</td>\n",
       "      <td>0.0</td>\n",
       "      <td>2.0</td>\n",
       "      <td>0.0</td>\n",
       "      <td>2.0</td>\n",
       "    </tr>\n",
       "    <tr>\n",
       "      <th>1</th>\n",
       "      <td>13/08/05</td>\n",
       "      <td>Everton</td>\n",
       "      <td>Man United</td>\n",
       "      <td>0.0</td>\n",
       "      <td>2.0</td>\n",
       "      <td>A</td>\n",
       "      <td>0.0</td>\n",
       "      <td>1.0</td>\n",
       "      <td>A</td>\n",
       "      <td>G Poll</td>\n",
       "      <td>...</td>\n",
       "      <td>3.0</td>\n",
       "      <td>1.0</td>\n",
       "      <td>0.0</td>\n",
       "      <td>0.0</td>\n",
       "      <td>05/06</td>\n",
       "      <td>4.0</td>\n",
       "      <td>0.0</td>\n",
       "      <td>4.0</td>\n",
       "      <td>3.0</td>\n",
       "      <td>1.0</td>\n",
       "    </tr>\n",
       "    <tr>\n",
       "      <th>2</th>\n",
       "      <td>13/08/05</td>\n",
       "      <td>Fulham</td>\n",
       "      <td>Birmingham</td>\n",
       "      <td>0.0</td>\n",
       "      <td>0.0</td>\n",
       "      <td>D</td>\n",
       "      <td>0.0</td>\n",
       "      <td>0.0</td>\n",
       "      <td>D</td>\n",
       "      <td>R Styles</td>\n",
       "      <td>...</td>\n",
       "      <td>1.0</td>\n",
       "      <td>2.0</td>\n",
       "      <td>0.0</td>\n",
       "      <td>0.0</td>\n",
       "      <td>05/06</td>\n",
       "      <td>3.0</td>\n",
       "      <td>0.0</td>\n",
       "      <td>3.0</td>\n",
       "      <td>1.0</td>\n",
       "      <td>2.0</td>\n",
       "    </tr>\n",
       "    <tr>\n",
       "      <th>3</th>\n",
       "      <td>13/08/05</td>\n",
       "      <td>Man City</td>\n",
       "      <td>West Brom</td>\n",
       "      <td>0.0</td>\n",
       "      <td>0.0</td>\n",
       "      <td>D</td>\n",
       "      <td>0.0</td>\n",
       "      <td>0.0</td>\n",
       "      <td>D</td>\n",
       "      <td>C Foy</td>\n",
       "      <td>...</td>\n",
       "      <td>2.0</td>\n",
       "      <td>3.0</td>\n",
       "      <td>0.0</td>\n",
       "      <td>0.0</td>\n",
       "      <td>05/06</td>\n",
       "      <td>5.0</td>\n",
       "      <td>0.0</td>\n",
       "      <td>5.0</td>\n",
       "      <td>2.0</td>\n",
       "      <td>3.0</td>\n",
       "    </tr>\n",
       "    <tr>\n",
       "      <th>4</th>\n",
       "      <td>13/08/05</td>\n",
       "      <td>Middlesbrough</td>\n",
       "      <td>Liverpool</td>\n",
       "      <td>0.0</td>\n",
       "      <td>0.0</td>\n",
       "      <td>D</td>\n",
       "      <td>0.0</td>\n",
       "      <td>0.0</td>\n",
       "      <td>D</td>\n",
       "      <td>M Halsey</td>\n",
       "      <td>...</td>\n",
       "      <td>2.0</td>\n",
       "      <td>3.0</td>\n",
       "      <td>1.0</td>\n",
       "      <td>0.0</td>\n",
       "      <td>05/06</td>\n",
       "      <td>5.0</td>\n",
       "      <td>1.0</td>\n",
       "      <td>6.0</td>\n",
       "      <td>3.0</td>\n",
       "      <td>3.0</td>\n",
       "    </tr>\n",
       "    <tr>\n",
       "      <th>...</th>\n",
       "      <td>...</td>\n",
       "      <td>...</td>\n",
       "      <td>...</td>\n",
       "      <td>...</td>\n",
       "      <td>...</td>\n",
       "      <td>...</td>\n",
       "      <td>...</td>\n",
       "      <td>...</td>\n",
       "      <td>...</td>\n",
       "      <td>...</td>\n",
       "      <td>...</td>\n",
       "      <td>...</td>\n",
       "      <td>...</td>\n",
       "      <td>...</td>\n",
       "      <td>...</td>\n",
       "      <td>...</td>\n",
       "      <td>...</td>\n",
       "      <td>...</td>\n",
       "      <td>...</td>\n",
       "      <td>...</td>\n",
       "      <td>...</td>\n",
       "    </tr>\n",
       "    <tr>\n",
       "      <th>6456</th>\n",
       "      <td>22/05/2022</td>\n",
       "      <td>Crystal Palace</td>\n",
       "      <td>Man United</td>\n",
       "      <td>1.0</td>\n",
       "      <td>0.0</td>\n",
       "      <td>H</td>\n",
       "      <td>1.0</td>\n",
       "      <td>0.0</td>\n",
       "      <td>H</td>\n",
       "      <td>M Atkinson</td>\n",
       "      <td>...</td>\n",
       "      <td>2.0</td>\n",
       "      <td>4.0</td>\n",
       "      <td>0.0</td>\n",
       "      <td>0.0</td>\n",
       "      <td>21/22</td>\n",
       "      <td>6.0</td>\n",
       "      <td>0.0</td>\n",
       "      <td>6.0</td>\n",
       "      <td>2.0</td>\n",
       "      <td>4.0</td>\n",
       "    </tr>\n",
       "    <tr>\n",
       "      <th>6457</th>\n",
       "      <td>22/05/2022</td>\n",
       "      <td>Leicester</td>\n",
       "      <td>Southampton</td>\n",
       "      <td>4.0</td>\n",
       "      <td>1.0</td>\n",
       "      <td>H</td>\n",
       "      <td>0.0</td>\n",
       "      <td>0.0</td>\n",
       "      <td>D</td>\n",
       "      <td>J Moss</td>\n",
       "      <td>...</td>\n",
       "      <td>0.0</td>\n",
       "      <td>1.0</td>\n",
       "      <td>0.0</td>\n",
       "      <td>0.0</td>\n",
       "      <td>21/22</td>\n",
       "      <td>1.0</td>\n",
       "      <td>0.0</td>\n",
       "      <td>1.0</td>\n",
       "      <td>0.0</td>\n",
       "      <td>1.0</td>\n",
       "    </tr>\n",
       "    <tr>\n",
       "      <th>6458</th>\n",
       "      <td>22/05/2022</td>\n",
       "      <td>Liverpool</td>\n",
       "      <td>Wolves</td>\n",
       "      <td>3.0</td>\n",
       "      <td>1.0</td>\n",
       "      <td>H</td>\n",
       "      <td>1.0</td>\n",
       "      <td>1.0</td>\n",
       "      <td>D</td>\n",
       "      <td>A Taylor</td>\n",
       "      <td>...</td>\n",
       "      <td>1.0</td>\n",
       "      <td>0.0</td>\n",
       "      <td>0.0</td>\n",
       "      <td>0.0</td>\n",
       "      <td>21/22</td>\n",
       "      <td>1.0</td>\n",
       "      <td>0.0</td>\n",
       "      <td>1.0</td>\n",
       "      <td>1.0</td>\n",
       "      <td>0.0</td>\n",
       "    </tr>\n",
       "    <tr>\n",
       "      <th>6459</th>\n",
       "      <td>22/05/2022</td>\n",
       "      <td>Man City</td>\n",
       "      <td>Aston Villa</td>\n",
       "      <td>3.0</td>\n",
       "      <td>2.0</td>\n",
       "      <td>H</td>\n",
       "      <td>0.0</td>\n",
       "      <td>1.0</td>\n",
       "      <td>A</td>\n",
       "      <td>M Oliver</td>\n",
       "      <td>...</td>\n",
       "      <td>0.0</td>\n",
       "      <td>1.0</td>\n",
       "      <td>0.0</td>\n",
       "      <td>0.0</td>\n",
       "      <td>21/22</td>\n",
       "      <td>1.0</td>\n",
       "      <td>0.0</td>\n",
       "      <td>1.0</td>\n",
       "      <td>0.0</td>\n",
       "      <td>1.0</td>\n",
       "    </tr>\n",
       "    <tr>\n",
       "      <th>6460</th>\n",
       "      <td>22/05/2022</td>\n",
       "      <td>Norwich</td>\n",
       "      <td>Tottenham</td>\n",
       "      <td>0.0</td>\n",
       "      <td>5.0</td>\n",
       "      <td>A</td>\n",
       "      <td>0.0</td>\n",
       "      <td>2.0</td>\n",
       "      <td>A</td>\n",
       "      <td>C Kavanagh</td>\n",
       "      <td>...</td>\n",
       "      <td>3.0</td>\n",
       "      <td>1.0</td>\n",
       "      <td>0.0</td>\n",
       "      <td>0.0</td>\n",
       "      <td>21/22</td>\n",
       "      <td>4.0</td>\n",
       "      <td>0.0</td>\n",
       "      <td>4.0</td>\n",
       "      <td>3.0</td>\n",
       "      <td>1.0</td>\n",
       "    </tr>\n",
       "  </tbody>\n",
       "</table>\n",
       "<p>6460 rows × 28 columns</p>\n",
       "</div>"
      ],
      "text/plain": [
       "            Date        HomeTeam     AwayTeam  FTHG  FTAG FTR  HTHG  HTAG HTR  \\\n",
       "0       13/08/05     Aston Villa       Bolton   2.0   2.0   D   2.0   2.0   D   \n",
       "1       13/08/05         Everton   Man United   0.0   2.0   A   0.0   1.0   A   \n",
       "2       13/08/05          Fulham   Birmingham   0.0   0.0   D   0.0   0.0   D   \n",
       "3       13/08/05        Man City    West Brom   0.0   0.0   D   0.0   0.0   D   \n",
       "4       13/08/05   Middlesbrough    Liverpool   0.0   0.0   D   0.0   0.0   D   \n",
       "...          ...             ...          ...   ...   ...  ..   ...   ...  ..   \n",
       "6456  22/05/2022  Crystal Palace   Man United   1.0   0.0   H   1.0   0.0   H   \n",
       "6457  22/05/2022       Leicester  Southampton   4.0   1.0   H   0.0   0.0   D   \n",
       "6458  22/05/2022       Liverpool       Wolves   3.0   1.0   H   1.0   1.0   D   \n",
       "6459  22/05/2022        Man City  Aston Villa   3.0   2.0   H   0.0   1.0   A   \n",
       "6460  22/05/2022         Norwich    Tottenham   0.0   5.0   A   0.0   2.0   A   \n",
       "\n",
       "         Referee  ...   HY   AY   HR   AR  Season  Total_Yellow_Cards  \\\n",
       "0        M Riley  ...  0.0  2.0  0.0  0.0   05/06                 2.0   \n",
       "1         G Poll  ...  3.0  1.0  0.0  0.0   05/06                 4.0   \n",
       "2       R Styles  ...  1.0  2.0  0.0  0.0   05/06                 3.0   \n",
       "3          C Foy  ...  2.0  3.0  0.0  0.0   05/06                 5.0   \n",
       "4       M Halsey  ...  2.0  3.0  1.0  0.0   05/06                 5.0   \n",
       "...          ...  ...  ...  ...  ...  ...     ...                 ...   \n",
       "6456  M Atkinson  ...  2.0  4.0  0.0  0.0   21/22                 6.0   \n",
       "6457      J Moss  ...  0.0  1.0  0.0  0.0   21/22                 1.0   \n",
       "6458    A Taylor  ...  1.0  0.0  0.0  0.0   21/22                 1.0   \n",
       "6459    M Oliver  ...  0.0  1.0  0.0  0.0   21/22                 1.0   \n",
       "6460  C Kavanagh  ...  3.0  1.0  0.0  0.0   21/22                 4.0   \n",
       "\n",
       "      Total_Red_Cards  Total_Cards  Total_Home_Cards  Total_Away_Cards  \n",
       "0                 0.0          2.0               0.0               2.0  \n",
       "1                 0.0          4.0               3.0               1.0  \n",
       "2                 0.0          3.0               1.0               2.0  \n",
       "3                 0.0          5.0               2.0               3.0  \n",
       "4                 1.0          6.0               3.0               3.0  \n",
       "...               ...          ...               ...               ...  \n",
       "6456              0.0          6.0               2.0               4.0  \n",
       "6457              0.0          1.0               0.0               1.0  \n",
       "6458              0.0          1.0               1.0               0.0  \n",
       "6459              0.0          1.0               0.0               1.0  \n",
       "6460              0.0          4.0               3.0               1.0  \n",
       "\n",
       "[6460 rows x 28 columns]"
      ]
     },
     "metadata": {},
     "output_type": "display_data"
    }
   ],
   "source": [
    "# Display dataframe \n",
    "display(df)"
   ]
  },
  {
   "cell_type": "markdown",
   "metadata": {},
   "source": [
    "## Variables\n",
    "\n",
    "Below is a brief explanation of **some** of the variables that will be used to test whether a bias is presentwhen a referee is officating a match.\n",
    "\n",
    "### Yellow Cards\n",
    "\n",
    "A yellow card communicates a caution to any player or team official who commits a cautionable offence either on or off the field of play (Association, 2022)[<sup>3</sup>](#fn3).\n",
    "\n",
    "A player is cautioned if guilty of:  \n",
    "- delaying the restart of play\n",
    "- dissent by word or action\n",
    "- entering, re-entering or deliberately leaving the field of play without the referee's permission\n",
    "- failing to respect the required distance when play is restarted with a corner kick, free kick or throw-in\n",
    "- persistent offences (no specific number or pattern of offences constitutes persistent)\n",
    "- unsporting behaviour\n",
    "- entering the referee review area (RRA)\n",
    "- excessively using the review (TV screen) signal\n",
    "- A substitute or substituted player is cautioned if guilty of:\n",
    "- delaying the restart of play\n",
    "- dissent by word or action\n",
    "- entering or re-entering the field of play without the referee's permission\n",
    "- unsporting behaviour\n",
    "- entering the referee review area (RRA)\n",
    "- excessively using the review (TV screen) signal  \n",
    "\n",
    "### Red Cards  \n",
    "The Red card communiates a sending-off in which the player must leave the vicinity of the field of play and the technical area. They can no longer take part in the match (Association, 2022)[<sup>3</sup>](#fn3).\n",
    "\n",
    "A player, substitute or substituted player who commits any of the following offences is sent off:  \n",
    "\n",
    "- denying the opposing team a goal or an obvious goal-scoring opportunity by a handball offence (except a goalkeeper\n",
    "- within their penalty area)\n",
    "- denying a goal or an obvious goal-scoring opportunity to an opponent whose overall movement is towards the offender�s - goal by an offence punishable by a free kick (unless as outlined below)\n",
    "- serious foul play\n",
    "- biting or spitting at someone\n",
    "- violent conduct\n",
    "- using offensive, insulting or abusive language and/or gestures\n",
    "- receiving a second caution in the same match\n",
    "- entering the video operation room (VOR)\n",
    "\n",
    "\n",
    "\n"
   ]
  },
  {
   "cell_type": "markdown",
   "metadata": {},
   "source": [
    "## Introduction\n",
    "In this report, we test for, and look to find evidence of, referee bias in favor of home teams in the English Premier League using data for all matches between 2005 and 2022 (current season). A role of the referee is to govern the rules set out by the Football Association (FA) during a football match. \n",
    "\n",
    "According to the IFAB Laws of the game 2022-23:  \n",
    ">Decisions will be made to the best of the referee's ability according to the Laws of the Game and the 'spirit of the game' and will be based on the opinion of the referee who has the discretion to take appropriate action within the framework of the Laws of the Game.(Association, 2022)[<sup>1</sup>](#fn1)\n",
    "\n",
    "There will always be a concern of the referees exercising impartial or bias decisions in favour of a team specifically the home team. In this situation, there are issues of moral hazard and conflicts of interest where I explore whether the the number of sanctions (Yellow cards, Red cards, free kicks and penalties etc) awarded by referees are subject to some bias whether the team playing is at home and behaviour of the referee is somewhat influenced by various other factors. \n",
    "\n",
    "Often these split decisions that can decide games taken by referees can often have huge financial implications for teams. For example, if a decision cost a team the game which meant they miss out of qualifying for the UEFA Champions League this could mean the difference between extra revenue for the club as well as attracting top talent for the season ahead. It can also have implications for the manager who may find himself out of a job especially if this forms part of their contract.\n",
    "\n",
    "These decisions that affect the overall match result provide fuel for debate between players, teams, pundits, journalists and your average fan, in some cases for years into the foreseeable future.  \n",
    "\n",
    "This concern is nothing new football fans across the global in multiple leagues since time can remember have complained about refereeing decisions. Some recent articles are linked below for reference. There are several fans who even claim conspiracies against their clubs by certain referees and managers have openly expressed dismay when particular match officials are appointed to officiate their matches.  \n",
    "\n",
    "[https://www.newcastleworld.com/sport/football/newcastle-united/i-hate-sunderland-premier-league-referee-on-bias-and-love-for-newcastle-united-3812928](https://www.newcastleworld.com/sport/football/newcastle-united/i-hate-sunderland-premier-league-referee-on-bias-and-love-for-newcastle-united-3812928)  \n",
    "[https://www.football365.com/news/mailbox-arsenal-var-referee-conspiracy-man-utd-elon-musk-lionesses](https://www.football365.com/news/mailbox-arsenal-var-referee-conspiracy-man-utd-elon-musk-lionesses)  \n",
    "[https://www.thesportsman.com/articles/tuchel-s-fury-and-87k-petitions-but-referees-are-not-biased-against-your-team](https://www.thesportsman.com/articles/tuchel-s-fury-and-87k-petitions-but-referees-are-not-biased-against-your-team)  \n",
    "[https://www.caughtoffside.com/2022/08/16/anthony-taylor-to-continue-to-referee-chelsea-games/](https://www.caughtoffside.com/2022/08/16/anthony-taylor-to-continue-to-referee-chelsea-games/)  \n",
    "[https://www.football365.com/news/mailbox-liverpool-1-1-palace-darwin-nunez-man-utd-arsenal](https://www.football365.com/news/mailbox-liverpool-1-1-palace-darwin-nunez-man-utd-arsenal)  \n",
    "\n",
    "\n",
    "This bias however is not just limited to football it can be observed in all sporting competitions. There are numerous studies on this and have been explored for example in hockey (Pappas, 2011)[<sup>2</sup>](#fn2) and in basketball for the well known National Basketball Assocation (NBA) competition (Lim and Rodenberg, 2022)[<sup>3</sup>](#fn3)"
   ]
  },
  {
   "cell_type": "code",
   "execution_count": 20,
   "metadata": {},
   "outputs": [
    {
     "data": {
      "text/html": [
       "<div>\n",
       "<style scoped>\n",
       "    .dataframe tbody tr th:only-of-type {\n",
       "        vertical-align: middle;\n",
       "    }\n",
       "\n",
       "    .dataframe tbody tr th {\n",
       "        vertical-align: top;\n",
       "    }\n",
       "\n",
       "    .dataframe thead th {\n",
       "        text-align: right;\n",
       "    }\n",
       "</style>\n",
       "<table border=\"1\" class=\"dataframe\">\n",
       "  <thead>\n",
       "    <tr style=\"text-align: right;\">\n",
       "      <th></th>\n",
       "      <th>FTHG</th>\n",
       "      <th>FTAG</th>\n",
       "      <th>HTHG</th>\n",
       "      <th>HTAG</th>\n",
       "      <th>HS</th>\n",
       "      <th>AS</th>\n",
       "      <th>HST</th>\n",
       "      <th>AST</th>\n",
       "      <th>HF</th>\n",
       "      <th>AF</th>\n",
       "      <th>...</th>\n",
       "      <th>AC</th>\n",
       "      <th>HY</th>\n",
       "      <th>AY</th>\n",
       "      <th>HR</th>\n",
       "      <th>AR</th>\n",
       "      <th>Total_Yellow_Cards</th>\n",
       "      <th>Total_Red_Cards</th>\n",
       "      <th>Total_Cards</th>\n",
       "      <th>Total_Home_Cards</th>\n",
       "      <th>Total_Away_Cards</th>\n",
       "    </tr>\n",
       "  </thead>\n",
       "  <tbody>\n",
       "    <tr>\n",
       "      <th>count</th>\n",
       "      <td>6460.000000</td>\n",
       "      <td>6460.000000</td>\n",
       "      <td>6460.000000</td>\n",
       "      <td>6460.000000</td>\n",
       "      <td>6460.000000</td>\n",
       "      <td>6460.000000</td>\n",
       "      <td>6460.000000</td>\n",
       "      <td>6460.000000</td>\n",
       "      <td>6460.000000</td>\n",
       "      <td>6460.000000</td>\n",
       "      <td>...</td>\n",
       "      <td>6460.000000</td>\n",
       "      <td>6460.000000</td>\n",
       "      <td>6460.000000</td>\n",
       "      <td>6460.000000</td>\n",
       "      <td>6460.000000</td>\n",
       "      <td>6460.000000</td>\n",
       "      <td>6460.000000</td>\n",
       "      <td>6460.000000</td>\n",
       "      <td>6460.000000</td>\n",
       "      <td>6460.000000</td>\n",
       "    </tr>\n",
       "    <tr>\n",
       "      <th>mean</th>\n",
       "      <td>1.525232</td>\n",
       "      <td>1.168266</td>\n",
       "      <td>0.683127</td>\n",
       "      <td>0.513313</td>\n",
       "      <td>13.739938</td>\n",
       "      <td>10.975697</td>\n",
       "      <td>5.971981</td>\n",
       "      <td>4.738390</td>\n",
       "      <td>10.977554</td>\n",
       "      <td>11.372446</td>\n",
       "      <td>...</td>\n",
       "      <td>4.787771</td>\n",
       "      <td>1.462074</td>\n",
       "      <td>1.760372</td>\n",
       "      <td>0.059907</td>\n",
       "      <td>0.086223</td>\n",
       "      <td>3.222446</td>\n",
       "      <td>0.146130</td>\n",
       "      <td>3.368576</td>\n",
       "      <td>1.521981</td>\n",
       "      <td>1.846594</td>\n",
       "    </tr>\n",
       "    <tr>\n",
       "      <th>std</th>\n",
       "      <td>1.308971</td>\n",
       "      <td>1.157920</td>\n",
       "      <td>0.835277</td>\n",
       "      <td>0.731679</td>\n",
       "      <td>5.412867</td>\n",
       "      <td>4.717523</td>\n",
       "      <td>3.367787</td>\n",
       "      <td>2.824973</td>\n",
       "      <td>3.621377</td>\n",
       "      <td>3.771412</td>\n",
       "      <td>...</td>\n",
       "      <td>2.745714</td>\n",
       "      <td>1.198111</td>\n",
       "      <td>1.274098</td>\n",
       "      <td>0.246297</td>\n",
       "      <td>0.291537</td>\n",
       "      <td>1.893566</td>\n",
       "      <td>0.389928</td>\n",
       "      <td>1.972854</td>\n",
       "      <td>1.236031</td>\n",
       "      <td>1.327883</td>\n",
       "    </tr>\n",
       "    <tr>\n",
       "      <th>min</th>\n",
       "      <td>0.000000</td>\n",
       "      <td>0.000000</td>\n",
       "      <td>0.000000</td>\n",
       "      <td>0.000000</td>\n",
       "      <td>0.000000</td>\n",
       "      <td>0.000000</td>\n",
       "      <td>0.000000</td>\n",
       "      <td>0.000000</td>\n",
       "      <td>0.000000</td>\n",
       "      <td>1.000000</td>\n",
       "      <td>...</td>\n",
       "      <td>0.000000</td>\n",
       "      <td>0.000000</td>\n",
       "      <td>0.000000</td>\n",
       "      <td>0.000000</td>\n",
       "      <td>0.000000</td>\n",
       "      <td>0.000000</td>\n",
       "      <td>0.000000</td>\n",
       "      <td>0.000000</td>\n",
       "      <td>0.000000</td>\n",
       "      <td>0.000000</td>\n",
       "    </tr>\n",
       "    <tr>\n",
       "      <th>25%</th>\n",
       "      <td>1.000000</td>\n",
       "      <td>0.000000</td>\n",
       "      <td>0.000000</td>\n",
       "      <td>0.000000</td>\n",
       "      <td>10.000000</td>\n",
       "      <td>8.000000</td>\n",
       "      <td>3.000000</td>\n",
       "      <td>3.000000</td>\n",
       "      <td>8.000000</td>\n",
       "      <td>9.000000</td>\n",
       "      <td>...</td>\n",
       "      <td>3.000000</td>\n",
       "      <td>1.000000</td>\n",
       "      <td>1.000000</td>\n",
       "      <td>0.000000</td>\n",
       "      <td>0.000000</td>\n",
       "      <td>2.000000</td>\n",
       "      <td>0.000000</td>\n",
       "      <td>2.000000</td>\n",
       "      <td>1.000000</td>\n",
       "      <td>1.000000</td>\n",
       "    </tr>\n",
       "    <tr>\n",
       "      <th>50%</th>\n",
       "      <td>1.000000</td>\n",
       "      <td>1.000000</td>\n",
       "      <td>0.000000</td>\n",
       "      <td>0.000000</td>\n",
       "      <td>13.000000</td>\n",
       "      <td>10.000000</td>\n",
       "      <td>5.000000</td>\n",
       "      <td>4.000000</td>\n",
       "      <td>11.000000</td>\n",
       "      <td>11.000000</td>\n",
       "      <td>...</td>\n",
       "      <td>4.000000</td>\n",
       "      <td>1.000000</td>\n",
       "      <td>2.000000</td>\n",
       "      <td>0.000000</td>\n",
       "      <td>0.000000</td>\n",
       "      <td>3.000000</td>\n",
       "      <td>0.000000</td>\n",
       "      <td>3.000000</td>\n",
       "      <td>1.000000</td>\n",
       "      <td>2.000000</td>\n",
       "    </tr>\n",
       "    <tr>\n",
       "      <th>75%</th>\n",
       "      <td>2.000000</td>\n",
       "      <td>2.000000</td>\n",
       "      <td>1.000000</td>\n",
       "      <td>1.000000</td>\n",
       "      <td>17.000000</td>\n",
       "      <td>14.000000</td>\n",
       "      <td>8.000000</td>\n",
       "      <td>6.000000</td>\n",
       "      <td>13.000000</td>\n",
       "      <td>14.000000</td>\n",
       "      <td>...</td>\n",
       "      <td>6.000000</td>\n",
       "      <td>2.000000</td>\n",
       "      <td>3.000000</td>\n",
       "      <td>0.000000</td>\n",
       "      <td>0.000000</td>\n",
       "      <td>4.000000</td>\n",
       "      <td>0.000000</td>\n",
       "      <td>5.000000</td>\n",
       "      <td>2.000000</td>\n",
       "      <td>3.000000</td>\n",
       "    </tr>\n",
       "    <tr>\n",
       "      <th>max</th>\n",
       "      <td>9.000000</td>\n",
       "      <td>9.000000</td>\n",
       "      <td>5.000000</td>\n",
       "      <td>5.000000</td>\n",
       "      <td>43.000000</td>\n",
       "      <td>31.000000</td>\n",
       "      <td>24.000000</td>\n",
       "      <td>20.000000</td>\n",
       "      <td>33.000000</td>\n",
       "      <td>26.000000</td>\n",
       "      <td>...</td>\n",
       "      <td>19.000000</td>\n",
       "      <td>7.000000</td>\n",
       "      <td>9.000000</td>\n",
       "      <td>2.000000</td>\n",
       "      <td>2.000000</td>\n",
       "      <td>12.000000</td>\n",
       "      <td>3.000000</td>\n",
       "      <td>12.000000</td>\n",
       "      <td>7.000000</td>\n",
       "      <td>9.000000</td>\n",
       "    </tr>\n",
       "  </tbody>\n",
       "</table>\n",
       "<p>8 rows × 21 columns</p>\n",
       "</div>"
      ],
      "text/plain": [
       "              FTHG         FTAG         HTHG         HTAG           HS  \\\n",
       "count  6460.000000  6460.000000  6460.000000  6460.000000  6460.000000   \n",
       "mean      1.525232     1.168266     0.683127     0.513313    13.739938   \n",
       "std       1.308971     1.157920     0.835277     0.731679     5.412867   \n",
       "min       0.000000     0.000000     0.000000     0.000000     0.000000   \n",
       "25%       1.000000     0.000000     0.000000     0.000000    10.000000   \n",
       "50%       1.000000     1.000000     0.000000     0.000000    13.000000   \n",
       "75%       2.000000     2.000000     1.000000     1.000000    17.000000   \n",
       "max       9.000000     9.000000     5.000000     5.000000    43.000000   \n",
       "\n",
       "                AS          HST          AST           HF           AF  ...  \\\n",
       "count  6460.000000  6460.000000  6460.000000  6460.000000  6460.000000  ...   \n",
       "mean     10.975697     5.971981     4.738390    10.977554    11.372446  ...   \n",
       "std       4.717523     3.367787     2.824973     3.621377     3.771412  ...   \n",
       "min       0.000000     0.000000     0.000000     0.000000     1.000000  ...   \n",
       "25%       8.000000     3.000000     3.000000     8.000000     9.000000  ...   \n",
       "50%      10.000000     5.000000     4.000000    11.000000    11.000000  ...   \n",
       "75%      14.000000     8.000000     6.000000    13.000000    14.000000  ...   \n",
       "max      31.000000    24.000000    20.000000    33.000000    26.000000  ...   \n",
       "\n",
       "                AC           HY           AY           HR           AR  \\\n",
       "count  6460.000000  6460.000000  6460.000000  6460.000000  6460.000000   \n",
       "mean      4.787771     1.462074     1.760372     0.059907     0.086223   \n",
       "std       2.745714     1.198111     1.274098     0.246297     0.291537   \n",
       "min       0.000000     0.000000     0.000000     0.000000     0.000000   \n",
       "25%       3.000000     1.000000     1.000000     0.000000     0.000000   \n",
       "50%       4.000000     1.000000     2.000000     0.000000     0.000000   \n",
       "75%       6.000000     2.000000     3.000000     0.000000     0.000000   \n",
       "max      19.000000     7.000000     9.000000     2.000000     2.000000   \n",
       "\n",
       "       Total_Yellow_Cards  Total_Red_Cards  Total_Cards  Total_Home_Cards  \\\n",
       "count         6460.000000      6460.000000  6460.000000       6460.000000   \n",
       "mean             3.222446         0.146130     3.368576          1.521981   \n",
       "std              1.893566         0.389928     1.972854          1.236031   \n",
       "min              0.000000         0.000000     0.000000          0.000000   \n",
       "25%              2.000000         0.000000     2.000000          1.000000   \n",
       "50%              3.000000         0.000000     3.000000          1.000000   \n",
       "75%              4.000000         0.000000     5.000000          2.000000   \n",
       "max             12.000000         3.000000    12.000000          7.000000   \n",
       "\n",
       "       Total_Away_Cards  \n",
       "count       6460.000000  \n",
       "mean           1.846594  \n",
       "std            1.327883  \n",
       "min            0.000000  \n",
       "25%            1.000000  \n",
       "50%            2.000000  \n",
       "75%            3.000000  \n",
       "max            9.000000  \n",
       "\n",
       "[8 rows x 21 columns]"
      ]
     },
     "execution_count": 20,
     "metadata": {},
     "output_type": "execute_result"
    }
   ],
   "source": [
    "# Dataset summary\n",
    "df.describe()"
   ]
  },
  {
   "cell_type": "markdown",
   "metadata": {},
   "source": [
    "# Hypothesis \n",
    "\n",
    "The null hypothesis $H_{0}$ is that there is not referee bias towards home teams in Premier League football matches.  \n",
    "The alternative hypothesis $H_{1}$ is there the referee is bias towards the home team in Premier League football matches.\n"
   ]
  },
  {
   "cell_type": "markdown",
   "metadata": {},
   "source": [
    "## Add in hypothesis testing move section to after exploratory charts \n",
    "## perform chi squared test \n",
    "## see how to plot distribution etc "
   ]
  },
  {
   "cell_type": "code",
   "execution_count": 21,
   "metadata": {},
   "outputs": [
    {
     "data": {
      "image/png": "[encoded data removed]",
      "text/plain": [
       "<Figure size 640x480 with 1 Axes>"
      ]
     },
     "metadata": {},
     "output_type": "display_data"
    }
   ],
   "source": [
    "## Plotting the number of game a referee has taken charge of top 13\n",
    "games_per_ref = df['Referee'].value_counts().rename_axis('Referee').reset_index(name='Count')\n",
    "\n",
    "(ggplot(data=games_per_ref.head(n=13), \n",
    "            mapping=aes(x='reorder(Referee, Count)', y='Count'))+ \n",
    "            geom_col(fill='coral') + \n",
    "            coord_flip() + \n",
    "            theme_minimal(base_family='Arial') + \n",
    "            theme(panel_grid_major=element_blank(), \n",
    "                  panel_grid_minor=element_blank()) + \n",
    "            ylab('Number of games') + \n",
    "            ggtitle(\"Chart 1: Total games officiated per referee\") +\n",
    "            xlab('Referee')).draw();\n",
    "\n",
    "\n",
    "\n"
   ]
  },
  {
   "cell_type": "code",
   "execution_count": 22,
   "metadata": {},
   "outputs": [
    {
     "data": {
      "image/png": "[encoded data removed]",
      "text/plain": [
       "<Figure size 1100x1500 with 1 Axes>"
      ]
     },
     "metadata": {},
     "output_type": "display_data"
    }
   ],
   "source": [
    "## Cards per ref \n",
    "\n",
    "cards_by_ref = df.groupby('Referee').agg(\n",
    "    Home = pd.NamedAgg(column='Total_Home_Cards', aggfunc=sum),\n",
    "    Away = pd.NamedAgg(column='Total_Away_Cards', aggfunc=sum)\n",
    ").reset_index().melt(id_vars='Referee').sort_values(by=\"value\", ascending=False)\n",
    "\n",
    "#foo = cards_by_ref.groupby('Referee').apply(lambda x: x.head(10).reset_index(drop=True))\n",
    "\n",
    "(ggplot(data=cards_by_ref,\n",
    "        mapping=aes(x = 'reorder(Referee, value)', y = 'value', fill = 'variable')) + \n",
    "        geom_col(position = position_dodge2()) +\n",
    "        coord_flip() +\n",
    "        theme_minimal() +\n",
    "        ggtitle(\"Chart 2: There appears to be a general tendancy for Referees to punish Away teams\") +\n",
    "        xlab(\"Number of Cards shown\")+\n",
    "        ylab(\"Referee\" ) +\n",
    "        theme(figure_size=(11,15), \n",
    "              panel_grid_major=element_blank(),\n",
    "              legend_title=element_blank(),\n",
    "              panel_grid_minor=element_blank())).draw();"
   ]
  },
  {
   "cell_type": "code",
   "execution_count": 23,
   "metadata": {},
   "outputs": [
    {
     "data": {
      "image/png": "[encoded data removed]",
      "text/plain": [
       "<Figure size 1100x600 with 1 Axes>"
      ]
     },
     "metadata": {},
     "output_type": "display_data"
    }
   ],
   "source": [
    "## Get total fouls commited split by Home/Away \n",
    "\n",
    "TotalFouls = df.groupby('Season').agg(\n",
    "    Home = pd.NamedAgg(column='HF', aggfunc=sum),\n",
    "    Away = pd.NamedAgg(column='AF', aggfunc=sum)\n",
    ").reset_index().melt(id_vars = ['Season'], ignore_index=True).reset_index(drop=True)\n",
    "\n",
    "(ggplot(data=TotalFouls, \n",
    "        mapping=aes(x = 'Season', y='value', fill='variable')) + \n",
    "        geom_col(position = position_dodge2())+ \n",
    "        theme_minimal() + \n",
    "        theme(legend_title=element_blank(), \n",
    "              legend_position='right', \n",
    "              figure_size=(11, 6),\n",
    "              panel_grid_major=element_blank(), \n",
    "              panel_grid_minor=element_blank())+ \n",
    "              ylab(\"Number of Fouls Committed\")+ \n",
    "              ggtitle(\"Chart 3: Both Home & Away teams seem to commit a similar amount of fouls\")).draw();"
   ]
  },
  {
   "cell_type": "code",
   "execution_count": 24,
   "metadata": {},
   "outputs": [
    {
     "data": {
      "image/png": "[encoded data removed]",
      "text/plain": [
       "<Figure size 1100x600 with 1 Axes>"
      ]
     },
     "metadata": {},
     "output_type": "display_data"
    }
   ],
   "source": [
    "Ycards_by_year = df.groupby('Season').agg(\n",
    "    Home = pd.NamedAgg(column='HY', aggfunc=sum),\n",
    "    Away = pd.NamedAgg(column='AY', aggfunc=sum)\n",
    "   # HR = pd.NamedAgg(column='HR', aggfunc=sum),\n",
    "    #AR = pd.NamedAgg(column='AR', aggfunc=sum),\n",
    ").reset_index().melt(id_vars=['Season'], ignore_index=True)\n",
    "\n",
    "## Plot the Yellow cards per season\n",
    "(ggplot(data=Ycards_by_year, \n",
    "        mapping=aes(x='Season', y='value', fill='variable')) + \n",
    "        geom_col(position = position_dodge2()) + \n",
    "        theme_minimal() + \n",
    "        ylab(\"Number of Yellow Cards\") + \n",
    "        theme(legend_title=element_blank(), \n",
    "              legend_position='right', \n",
    "              figure_size=(11, 6),\n",
    "              panel_grid_major=element_blank(), \n",
    "              panel_grid_minor=element_blank()) + \n",
    "        ggtitle(\"Chart 4: Home teams seem to get an advantage\")).draw();"
   ]
  },
  {
   "cell_type": "code",
   "execution_count": 25,
   "metadata": {},
   "outputs": [
    {
     "data": {
      "image/png": "[encoded data removed]",
      "text/plain": [
       "<Figure size 1100x600 with 1 Axes>"
      ]
     },
     "metadata": {},
     "output_type": "display_data"
    }
   ],
   "source": [
    "## Plotting Red cards\n",
    "\n",
    "Rcards_by_year = df.groupby('Season').agg(\n",
    "    Home = pd.NamedAgg(column='HR', aggfunc=sum),\n",
    "    Away = pd.NamedAgg(column='AR', aggfunc=sum)\n",
    ").reset_index().melt(id_vars=['Season'], ignore_index=True)\n",
    "\n",
    "## Plot the Yellow cards per season\n",
    "(ggplot(data=Rcards_by_year, \n",
    "        mapping=aes(x='Season', y='value', fill='variable')) + \n",
    "        geom_col(position = position_dodge2()) + \n",
    "        theme_minimal() + \n",
    "        ylab(\"Number of Yellow Cards\") + \n",
    "        theme(legend_title=element_blank(), \n",
    "              legend_position='right', \n",
    "              figure_size=(11, 6),\n",
    "              panel_grid_major=element_blank(), \n",
    "              panel_grid_minor=element_blank()) + \n",
    "        ggtitle(\"Chart 5: Away teams are being sent off more\")).draw();"
   ]
  },
  {
   "cell_type": "markdown",
   "metadata": {},
   "source": [
    "What the above data shows us is that whilst on the surface of it we can see that whilst both home and away teams are commiting more or less a similar amount of fouls in a season, the away side seem to be on the receiving end of punishment in the form of a yellow card or red card.  \n",
    "\n",
    "However whilst this might be true whilst looking at the data there are a number of factors that maybe influence the decision behind a referee to produce a card in such games:  \n",
    "- The nature of the fouls might not be a serious impediment of the rules so they do not warrant a booking. \n",
    "- Most times it is well known that teams play more aggressively away from home which can mean a foul committed has a higher chance of leading to a booking. "
   ]
  },
  {
   "cell_type": "code",
   "execution_count": 26,
   "metadata": {},
   "outputs": [],
   "source": [
    "##aggregate across all years \n",
    "\n",
    "totalcards = df.groupby('HomeTeam').agg(\n",
    "    Home = pd.NamedAgg(column='HY', aggfunc=sum),\n",
    "    Away = pd.NamedAgg(column='AY', aggfunc=sum)\n",
    ").reset_index().melt(id_vars='HomeTeam')"
   ]
  },
  {
   "cell_type": "code",
   "execution_count": 27,
   "metadata": {},
   "outputs": [
    {
     "data": {
      "application/vnd.plotly.v1+json": {
       "config": {
        "plotlyServerURL": "https://plot.ly"
       },
       "data": [
        {
         "hovertemplate": "=Home<br>value=%{x}<br>HomeTeam=%{y}<extra></extra>",
         "legendgroup": "Home",
         "marker": {
          "color": "#636efa",
          "symbol": "circle"
         },
         "mode": "markers",
         "name": "Home",
         "orientation": "h",
         "showlegend": true,
         "type": "scatter",
         "x": [
          463,
          401,
          113,
          226,
          22,
          189,
          152,
          29,
          158,
          236,
          58,
          52,
          429,
          271,
          27,
          467,
          286,
          53,
          143,
          86,
          187,
          334,
          411,
          457,
          157,
          439,
          172,
          144,
          87,
          65,
          93,
          260,
          317,
          358,
          188,
          443,
          261,
          314,
          464,
          229,
          204
         ],
         "xaxis": "x",
         "y": [
          "Arsenal",
          "Aston Villa",
          "Birmingham",
          "Blackburn",
          "Blackpool",
          "Bolton",
          "Bournemouth",
          "Brentford",
          "Brighton",
          "Burnley",
          "Cardiff",
          "Charlton",
          "Chelsea",
          "Crystal Palace",
          "Derby",
          "Everton",
          "Fulham",
          "Huddersfield",
          "Hull",
          "Leeds",
          "Leicester",
          "Liverpool",
          "Man City",
          "Man United",
          "Middlesbrough",
          "Newcastle",
          "Norwich",
          "Portsmouth",
          "QPR",
          "Reading",
          "Sheffield United",
          "Southampton",
          "Stoke",
          "Sunderland",
          "Swansea",
          "Tottenham",
          "Watford",
          "West Brom",
          "West Ham",
          "Wigan",
          "Wolves"
         ],
         "yaxis": "y"
        },
        {
         "hovertemplate": "=Away<br>value=%{x}<br>HomeTeam=%{y}<extra></extra>",
         "legendgroup": "Away",
         "marker": {
          "color": "#EF553B",
          "symbol": "circle"
         },
         "mode": "markers",
         "name": "Away",
         "orientation": "h",
         "showlegend": true,
         "type": "scatter",
         "x": [
          646,
          479,
          125,
          246,
          26,
          213,
          185,
          22,
          140,
          202,
          68,
          62,
          606,
          304,
          26,
          617,
          299,
          67,
          164,
          66,
          248,
          563,
          556,
          570,
          177,
          580,
          180,
          151,
          109,
          91,
          88,
          297,
          298,
          400,
          287,
          666,
          203,
          310,
          488,
          288,
          259
         ],
         "xaxis": "x",
         "y": [
          "Arsenal",
          "Aston Villa",
          "Birmingham",
          "Blackburn",
          "Blackpool",
          "Bolton",
          "Bournemouth",
          "Brentford",
          "Brighton",
          "Burnley",
          "Cardiff",
          "Charlton",
          "Chelsea",
          "Crystal Palace",
          "Derby",
          "Everton",
          "Fulham",
          "Huddersfield",
          "Hull",
          "Leeds",
          "Leicester",
          "Liverpool",
          "Man City",
          "Man United",
          "Middlesbrough",
          "Newcastle",
          "Norwich",
          "Portsmouth",
          "QPR",
          "Reading",
          "Sheffield United",
          "Southampton",
          "Stoke",
          "Sunderland",
          "Swansea",
          "Tottenham",
          "Watford",
          "West Brom",
          "West Ham",
          "Wigan",
          "Wolves"
         ],
         "yaxis": "y"
        }
       ],
       "layout": {
        "font": {
         "family": "Arial"
        },
        "height": 1500,
        "legend": {
         "title": {
          "text": ""
         },
         "tracegroupgap": 0
        },
        "paper_bgcolor": "rgba(0,0,0,0)",
        "plot_bgcolor": "rgba(0,0,0,0)",
        "shapes": [
         {
          "layer": "below",
          "line": {
           "color": "black",
           "width": 2
          },
          "opacity": 0.5,
          "type": "line",
          "x0": 463,
          "x1": 646,
          "y0": "Arsenal",
          "y1": "Arsenal"
         },
         {
          "layer": "below",
          "line": {
           "color": "black",
           "width": 2
          },
          "opacity": 0.5,
          "type": "line",
          "x0": 401,
          "x1": 479,
          "y0": "Aston Villa",
          "y1": "Aston Villa"
         },
         {
          "layer": "below",
          "line": {
           "color": "black",
           "width": 2
          },
          "opacity": 0.5,
          "type": "line",
          "x0": 113,
          "x1": 125,
          "y0": "Birmingham",
          "y1": "Birmingham"
         },
         {
          "layer": "below",
          "line": {
           "color": "black",
           "width": 2
          },
          "opacity": 0.5,
          "type": "line",
          "x0": 226,
          "x1": 246,
          "y0": "Blackburn",
          "y1": "Blackburn"
         },
         {
          "layer": "below",
          "line": {
           "color": "black",
           "width": 2
          },
          "opacity": 0.5,
          "type": "line",
          "x0": 22,
          "x1": 26,
          "y0": "Blackpool",
          "y1": "Blackpool"
         },
         {
          "layer": "below",
          "line": {
           "color": "black",
           "width": 2
          },
          "opacity": 0.5,
          "type": "line",
          "x0": 189,
          "x1": 213,
          "y0": "Bolton",
          "y1": "Bolton"
         },
         {
          "layer": "below",
          "line": {
           "color": "black",
           "width": 2
          },
          "opacity": 0.5,
          "type": "line",
          "x0": 152,
          "x1": 185,
          "y0": "Bournemouth",
          "y1": "Bournemouth"
         },
         {
          "layer": "below",
          "line": {
           "color": "black",
           "width": 2
          },
          "opacity": 0.5,
          "type": "line",
          "x0": 29,
          "x1": 22,
          "y0": "Brentford",
          "y1": "Brentford"
         },
         {
          "layer": "below",
          "line": {
           "color": "black",
           "width": 2
          },
          "opacity": 0.5,
          "type": "line",
          "x0": 158,
          "x1": 140,
          "y0": "Brighton",
          "y1": "Brighton"
         },
         {
          "layer": "below",
          "line": {
           "color": "black",
           "width": 2
          },
          "opacity": 0.5,
          "type": "line",
          "x0": 236,
          "x1": 202,
          "y0": "Burnley",
          "y1": "Burnley"
         },
         {
          "layer": "below",
          "line": {
           "color": "black",
           "width": 2
          },
          "opacity": 0.5,
          "type": "line",
          "x0": 58,
          "x1": 68,
          "y0": "Cardiff",
          "y1": "Cardiff"
         },
         {
          "layer": "below",
          "line": {
           "color": "black",
           "width": 2
          },
          "opacity": 0.5,
          "type": "line",
          "x0": 52,
          "x1": 62,
          "y0": "Charlton",
          "y1": "Charlton"
         },
         {
          "layer": "below",
          "line": {
           "color": "black",
           "width": 2
          },
          "opacity": 0.5,
          "type": "line",
          "x0": 429,
          "x1": 606,
          "y0": "Chelsea",
          "y1": "Chelsea"
         },
         {
          "layer": "below",
          "line": {
           "color": "black",
           "width": 2
          },
          "opacity": 0.5,
          "type": "line",
          "x0": 271,
          "x1": 304,
          "y0": "Crystal Palace",
          "y1": "Crystal Palace"
         },
         {
          "layer": "below",
          "line": {
           "color": "black",
           "width": 2
          },
          "opacity": 0.5,
          "type": "line",
          "x0": 27,
          "x1": 26,
          "y0": "Derby",
          "y1": "Derby"
         },
         {
          "layer": "below",
          "line": {
           "color": "black",
           "width": 2
          },
          "opacity": 0.5,
          "type": "line",
          "x0": 467,
          "x1": 617,
          "y0": "Everton",
          "y1": "Everton"
         },
         {
          "layer": "below",
          "line": {
           "color": "black",
           "width": 2
          },
          "opacity": 0.5,
          "type": "line",
          "x0": 286,
          "x1": 299,
          "y0": "Fulham",
          "y1": "Fulham"
         },
         {
          "layer": "below",
          "line": {
           "color": "black",
           "width": 2
          },
          "opacity": 0.5,
          "type": "line",
          "x0": 53,
          "x1": 67,
          "y0": "Huddersfield",
          "y1": "Huddersfield"
         },
         {
          "layer": "below",
          "line": {
           "color": "black",
           "width": 2
          },
          "opacity": 0.5,
          "type": "line",
          "x0": 143,
          "x1": 164,
          "y0": "Hull",
          "y1": "Hull"
         },
         {
          "layer": "below",
          "line": {
           "color": "black",
           "width": 2
          },
          "opacity": 0.5,
          "type": "line",
          "x0": 86,
          "x1": 66,
          "y0": "Leeds",
          "y1": "Leeds"
         },
         {
          "layer": "below",
          "line": {
           "color": "black",
           "width": 2
          },
          "opacity": 0.5,
          "type": "line",
          "x0": 187,
          "x1": 248,
          "y0": "Leicester",
          "y1": "Leicester"
         },
         {
          "layer": "below",
          "line": {
           "color": "black",
           "width": 2
          },
          "opacity": 0.5,
          "type": "line",
          "x0": 334,
          "x1": 563,
          "y0": "Liverpool",
          "y1": "Liverpool"
         },
         {
          "layer": "below",
          "line": {
           "color": "black",
           "width": 2
          },
          "opacity": 0.5,
          "type": "line",
          "x0": 411,
          "x1": 556,
          "y0": "Man City",
          "y1": "Man City"
         },
         {
          "layer": "below",
          "line": {
           "color": "black",
           "width": 2
          },
          "opacity": 0.5,
          "type": "line",
          "x0": 457,
          "x1": 570,
          "y0": "Man United",
          "y1": "Man United"
         },
         {
          "layer": "below",
          "line": {
           "color": "black",
           "width": 2
          },
          "opacity": 0.5,
          "type": "line",
          "x0": 157,
          "x1": 177,
          "y0": "Middlesbrough",
          "y1": "Middlesbrough"
         },
         {
          "layer": "below",
          "line": {
           "color": "black",
           "width": 2
          },
          "opacity": 0.5,
          "type": "line",
          "x0": 439,
          "x1": 580,
          "y0": "Newcastle",
          "y1": "Newcastle"
         },
         {
          "layer": "below",
          "line": {
           "color": "black",
           "width": 2
          },
          "opacity": 0.5,
          "type": "line",
          "x0": 172,
          "x1": 180,
          "y0": "Norwich",
          "y1": "Norwich"
         },
         {
          "layer": "below",
          "line": {
           "color": "black",
           "width": 2
          },
          "opacity": 0.5,
          "type": "line",
          "x0": 144,
          "x1": 151,
          "y0": "Portsmouth",
          "y1": "Portsmouth"
         },
         {
          "layer": "below",
          "line": {
           "color": "black",
           "width": 2
          },
          "opacity": 0.5,
          "type": "line",
          "x0": 87,
          "x1": 109,
          "y0": "QPR",
          "y1": "QPR"
         },
         {
          "layer": "below",
          "line": {
           "color": "black",
           "width": 2
          },
          "opacity": 0.5,
          "type": "line",
          "x0": 65,
          "x1": 91,
          "y0": "Reading",
          "y1": "Reading"
         },
         {
          "layer": "below",
          "line": {
           "color": "black",
           "width": 2
          },
          "opacity": 0.5,
          "type": "line",
          "x0": 93,
          "x1": 88,
          "y0": "Sheffield United",
          "y1": "Sheffield United"
         },
         {
          "layer": "below",
          "line": {
           "color": "black",
           "width": 2
          },
          "opacity": 0.5,
          "type": "line",
          "x0": 260,
          "x1": 297,
          "y0": "Southampton",
          "y1": "Southampton"
         },
         {
          "layer": "below",
          "line": {
           "color": "black",
           "width": 2
          },
          "opacity": 0.5,
          "type": "line",
          "x0": 317,
          "x1": 298,
          "y0": "Stoke",
          "y1": "Stoke"
         },
         {
          "layer": "below",
          "line": {
           "color": "black",
           "width": 2
          },
          "opacity": 0.5,
          "type": "line",
          "x0": 358,
          "x1": 400,
          "y0": "Sunderland",
          "y1": "Sunderland"
         },
         {
          "layer": "below",
          "line": {
           "color": "black",
           "width": 2
          },
          "opacity": 0.5,
          "type": "line",
          "x0": 188,
          "x1": 287,
          "y0": "Swansea",
          "y1": "Swansea"
         },
         {
          "layer": "below",
          "line": {
           "color": "black",
           "width": 2
          },
          "opacity": 0.5,
          "type": "line",
          "x0": 443,
          "x1": 666,
          "y0": "Tottenham",
          "y1": "Tottenham"
         },
         {
          "layer": "below",
          "line": {
           "color": "black",
           "width": 2
          },
          "opacity": 0.5,
          "type": "line",
          "x0": 261,
          "x1": 203,
          "y0": "Watford",
          "y1": "Watford"
         },
         {
          "layer": "below",
          "line": {
           "color": "black",
           "width": 2
          },
          "opacity": 0.5,
          "type": "line",
          "x0": 314,
          "x1": 310,
          "y0": "West Brom",
          "y1": "West Brom"
         },
         {
          "layer": "below",
          "line": {
           "color": "black",
           "width": 2
          },
          "opacity": 0.5,
          "type": "line",
          "x0": 464,
          "x1": 488,
          "y0": "West Ham",
          "y1": "West Ham"
         },
         {
          "layer": "below",
          "line": {
           "color": "black",
           "width": 2
          },
          "opacity": 0.5,
          "type": "line",
          "x0": 229,
          "x1": 288,
          "y0": "Wigan",
          "y1": "Wigan"
         },
         {
          "layer": "below",
          "line": {
           "color": "black",
           "width": 2
          },
          "opacity": 0.5,
          "type": "line",
          "x0": 204,
          "x1": 259,
          "y0": "Wolves",
          "y1": "Wolves"
         }
        ],
        "template": {
         "data": {
          "bar": [
           {
            "error_x": {
             "color": "#2a3f5f"
            },
            "error_y": {
             "color": "#2a3f5f"
            },
            "marker": {
             "line": {
              "color": "#E5ECF6",
              "width": 0.5
             },
             "pattern": {
              "fillmode": "overlay",
              "size": 10,
              "solidity": 0.2
             }
            },
            "type": "bar"
           }
          ],
          "barpolar": [
           {
            "marker": {
             "line": {
              "color": "#E5ECF6",
              "width": 0.5
             },
             "pattern": {
              "fillmode": "overlay",
              "size": 10,
              "solidity": 0.2
             }
            },
            "type": "barpolar"
           }
          ],
          "carpet": [
           {
            "aaxis": {
             "endlinecolor": "#2a3f5f",
             "gridcolor": "white",
             "linecolor": "white",
             "minorgridcolor": "white",
             "startlinecolor": "#2a3f5f"
            },
            "baxis": {
             "endlinecolor": "#2a3f5f",
             "gridcolor": "white",
             "linecolor": "white",
             "minorgridcolor": "white",
             "startlinecolor": "#2a3f5f"
            },
            "type": "carpet"
           }
          ],
          "choropleth": [
           {
            "colorbar": {
             "outlinewidth": 0,
             "ticks": ""
            },
            "type": "choropleth"
           }
          ],
          "contour": [
           {
            "colorbar": {
             "outlinewidth": 0,
             "ticks": ""
            },
            "colorscale": [
             [
              0,
              "#0d0887"
             ],
             [
              0.1111111111111111,
              "#46039f"
             ],
             [
              0.2222222222222222,
              "#7201a8"
             ],
             [
              0.3333333333333333,
              "#9c179e"
             ],
             [
              0.4444444444444444,
              "#bd3786"
             ],
             [
              0.5555555555555556,
              "#d8576b"
             ],
             [
              0.6666666666666666,
              "#ed7953"
             ],
             [
              0.7777777777777778,
              "#fb9f3a"
             ],
             [
              0.8888888888888888,
              "#fdca26"
             ],
             [
              1,
              "#f0f921"
             ]
            ],
            "type": "contour"
           }
          ],
          "contourcarpet": [
           {
            "colorbar": {
             "outlinewidth": 0,
             "ticks": ""
            },
            "type": "contourcarpet"
           }
          ],
          "heatmap": [
           {
            "colorbar": {
             "outlinewidth": 0,
             "ticks": ""
            },
            "colorscale": [
             [
              0,
              "#0d0887"
             ],
             [
              0.1111111111111111,
              "#46039f"
             ],
             [
              0.2222222222222222,
              "#7201a8"
             ],
             [
              0.3333333333333333,
              "#9c179e"
             ],
             [
              0.4444444444444444,
              "#bd3786"
             ],
             [
              0.5555555555555556,
              "#d8576b"
             ],
             [
              0.6666666666666666,
              "#ed7953"
             ],
             [
              0.7777777777777778,
              "#fb9f3a"
             ],
             [
              0.8888888888888888,
              "#fdca26"
             ],
             [
              1,
              "#f0f921"
             ]
            ],
            "type": "heatmap"
           }
          ],
          "heatmapgl": [
           {
            "colorbar": {
             "outlinewidth": 0,
             "ticks": ""
            },
            "colorscale": [
             [
              0,
              "#0d0887"
             ],
             [
              0.1111111111111111,
              "#46039f"
             ],
             [
              0.2222222222222222,
              "#7201a8"
             ],
             [
              0.3333333333333333,
              "#9c179e"
             ],
             [
              0.4444444444444444,
              "#bd3786"
             ],
             [
              0.5555555555555556,
              "#d8576b"
             ],
             [
              0.6666666666666666,
              "#ed7953"
             ],
             [
              0.7777777777777778,
              "#fb9f3a"
             ],
             [
              0.8888888888888888,
              "#fdca26"
             ],
             [
              1,
              "#f0f921"
             ]
            ],
            "type": "heatmapgl"
           }
          ],
          "histogram": [
           {
            "marker": {
             "pattern": {
              "fillmode": "overlay",
              "size": 10,
              "solidity": 0.2
             }
            },
            "type": "histogram"
           }
          ],
          "histogram2d": [
           {
            "colorbar": {
             "outlinewidth": 0,
             "ticks": ""
            },
            "colorscale": [
             [
              0,
              "#0d0887"
             ],
             [
              0.1111111111111111,
              "#46039f"
             ],
             [
              0.2222222222222222,
              "#7201a8"
             ],
             [
              0.3333333333333333,
              "#9c179e"
             ],
             [
              0.4444444444444444,
              "#bd3786"
             ],
             [
              0.5555555555555556,
              "#d8576b"
             ],
             [
              0.6666666666666666,
              "#ed7953"
             ],
             [
              0.7777777777777778,
              "#fb9f3a"
             ],
             [
              0.8888888888888888,
              "#fdca26"
             ],
             [
              1,
              "#f0f921"
             ]
            ],
            "type": "histogram2d"
           }
          ],
          "histogram2dcontour": [
           {
            "colorbar": {
             "outlinewidth": 0,
             "ticks": ""
            },
            "colorscale": [
             [
              0,
              "#0d0887"
             ],
             [
              0.1111111111111111,
              "#46039f"
             ],
             [
              0.2222222222222222,
              "#7201a8"
             ],
             [
              0.3333333333333333,
              "#9c179e"
             ],
             [
              0.4444444444444444,
              "#bd3786"
             ],
             [
              0.5555555555555556,
              "#d8576b"
             ],
             [
              0.6666666666666666,
              "#ed7953"
             ],
             [
              0.7777777777777778,
              "#fb9f3a"
             ],
             [
              0.8888888888888888,
              "#fdca26"
             ],
             [
              1,
              "#f0f921"
             ]
            ],
            "type": "histogram2dcontour"
           }
          ],
          "mesh3d": [
           {
            "colorbar": {
             "outlinewidth": 0,
             "ticks": ""
            },
            "type": "mesh3d"
           }
          ],
          "parcoords": [
           {
            "line": {
             "colorbar": {
              "outlinewidth": 0,
              "ticks": ""
             }
            },
            "type": "parcoords"
           }
          ],
          "pie": [
           {
            "automargin": true,
            "type": "pie"
           }
          ],
          "scatter": [
           {
            "fillpattern": {
             "fillmode": "overlay",
             "size": 10,
             "solidity": 0.2
            },
            "type": "scatter"
           }
          ],
          "scatter3d": [
           {
            "line": {
             "colorbar": {
              "outlinewidth": 0,
              "ticks": ""
             }
            },
            "marker": {
             "colorbar": {
              "outlinewidth": 0,
              "ticks": ""
             }
            },
            "type": "scatter3d"
           }
          ],
          "scattercarpet": [
           {
            "marker": {
             "colorbar": {
              "outlinewidth": 0,
              "ticks": ""
             }
            },
            "type": "scattercarpet"
           }
          ],
          "scattergeo": [
           {
            "marker": {
             "colorbar": {
              "outlinewidth": 0,
              "ticks": ""
             }
            },
            "type": "scattergeo"
           }
          ],
          "scattergl": [
           {
            "marker": {
             "colorbar": {
              "outlinewidth": 0,
              "ticks": ""
             }
            },
            "type": "scattergl"
           }
          ],
          "scattermapbox": [
           {
            "marker": {
             "colorbar": {
              "outlinewidth": 0,
              "ticks": ""
             }
            },
            "type": "scattermapbox"
           }
          ],
          "scatterpolar": [
           {
            "marker": {
             "colorbar": {
              "outlinewidth": 0,
              "ticks": ""
             }
            },
            "type": "scatterpolar"
           }
          ],
          "scatterpolargl": [
           {
            "marker": {
             "colorbar": {
              "outlinewidth": 0,
              "ticks": ""
             }
            },
            "type": "scatterpolargl"
           }
          ],
          "scatterternary": [
           {
            "marker": {
             "colorbar": {
              "outlinewidth": 0,
              "ticks": ""
             }
            },
            "type": "scatterternary"
           }
          ],
          "surface": [
           {
            "colorbar": {
             "outlinewidth": 0,
             "ticks": ""
            },
            "colorscale": [
             [
              0,
              "#0d0887"
             ],
             [
              0.1111111111111111,
              "#46039f"
             ],
             [
              0.2222222222222222,
              "#7201a8"
             ],
             [
              0.3333333333333333,
              "#9c179e"
             ],
             [
              0.4444444444444444,
              "#bd3786"
             ],
             [
              0.5555555555555556,
              "#d8576b"
             ],
             [
              0.6666666666666666,
              "#ed7953"
             ],
             [
              0.7777777777777778,
              "#fb9f3a"
             ],
             [
              0.8888888888888888,
              "#fdca26"
             ],
             [
              1,
              "#f0f921"
             ]
            ],
            "type": "surface"
           }
          ],
          "table": [
           {
            "cells": {
             "fill": {
              "color": "#EBF0F8"
             },
             "line": {
              "color": "white"
             }
            },
            "header": {
             "fill": {
              "color": "#C8D4E3"
             },
             "line": {
              "color": "white"
             }
            },
            "type": "table"
           }
          ]
         },
         "layout": {
          "annotationdefaults": {
           "arrowcolor": "#2a3f5f",
           "arrowhead": 0,
           "arrowwidth": 1
          },
          "autotypenumbers": "strict",
          "coloraxis": {
           "colorbar": {
            "outlinewidth": 0,
            "ticks": ""
           }
          },
          "colorscale": {
           "diverging": [
            [
             0,
             "#8e0152"
            ],
            [
             0.1,
             "#c51b7d"
            ],
            [
             0.2,
             "#de77ae"
            ],
            [
             0.3,
             "#f1b6da"
            ],
            [
             0.4,
             "#fde0ef"
            ],
            [
             0.5,
             "#f7f7f7"
            ],
            [
             0.6,
             "#e6f5d0"
            ],
            [
             0.7,
             "#b8e186"
            ],
            [
             0.8,
             "#7fbc41"
            ],
            [
             0.9,
             "#4d9221"
            ],
            [
             1,
             "#276419"
            ]
           ],
           "sequential": [
            [
             0,
             "#0d0887"
            ],
            [
             0.1111111111111111,
             "#46039f"
            ],
            [
             0.2222222222222222,
             "#7201a8"
            ],
            [
             0.3333333333333333,
             "#9c179e"
            ],
            [
             0.4444444444444444,
             "#bd3786"
            ],
            [
             0.5555555555555556,
             "#d8576b"
            ],
            [
             0.6666666666666666,
             "#ed7953"
            ],
            [
             0.7777777777777778,
             "#fb9f3a"
            ],
            [
             0.8888888888888888,
             "#fdca26"
            ],
            [
             1,
             "#f0f921"
            ]
           ],
           "sequentialminus": [
            [
             0,
             "#0d0887"
            ],
            [
             0.1111111111111111,
             "#46039f"
            ],
            [
             0.2222222222222222,
             "#7201a8"
            ],
            [
             0.3333333333333333,
             "#9c179e"
            ],
            [
             0.4444444444444444,
             "#bd3786"
            ],
            [
             0.5555555555555556,
             "#d8576b"
            ],
            [
             0.6666666666666666,
             "#ed7953"
            ],
            [
             0.7777777777777778,
             "#fb9f3a"
            ],
            [
             0.8888888888888888,
             "#fdca26"
            ],
            [
             1,
             "#f0f921"
            ]
           ]
          },
          "colorway": [
           "#636efa",
           "#EF553B",
           "#00cc96",
           "#ab63fa",
           "#FFA15A",
           "#19d3f3",
           "#FF6692",
           "#B6E880",
           "#FF97FF",
           "#FECB52"
          ],
          "font": {
           "color": "#2a3f5f"
          },
          "geo": {
           "bgcolor": "white",
           "lakecolor": "white",
           "landcolor": "#E5ECF6",
           "showlakes": true,
           "showland": true,
           "subunitcolor": "white"
          },
          "hoverlabel": {
           "align": "left"
          },
          "hovermode": "closest",
          "mapbox": {
           "style": "light"
          },
          "paper_bgcolor": "white",
          "plot_bgcolor": "#E5ECF6",
          "polar": {
           "angularaxis": {
            "gridcolor": "white",
            "linecolor": "white",
            "ticks": ""
           },
           "bgcolor": "#E5ECF6",
           "radialaxis": {
            "gridcolor": "white",
            "linecolor": "white",
            "ticks": ""
           }
          },
          "scene": {
           "xaxis": {
            "backgroundcolor": "#E5ECF6",
            "gridcolor": "white",
            "gridwidth": 2,
            "linecolor": "white",
            "showbackground": true,
            "ticks": "",
            "zerolinecolor": "white"
           },
           "yaxis": {
            "backgroundcolor": "#E5ECF6",
            "gridcolor": "white",
            "gridwidth": 2,
            "linecolor": "white",
            "showbackground": true,
            "ticks": "",
            "zerolinecolor": "white"
           },
           "zaxis": {
            "backgroundcolor": "#E5ECF6",
            "gridcolor": "white",
            "gridwidth": 2,
            "linecolor": "white",
            "showbackground": true,
            "ticks": "",
            "zerolinecolor": "white"
           }
          },
          "shapedefaults": {
           "line": {
            "color": "#2a3f5f"
           }
          },
          "ternary": {
           "aaxis": {
            "gridcolor": "white",
            "linecolor": "white",
            "ticks": ""
           },
           "baxis": {
            "gridcolor": "white",
            "linecolor": "white",
            "ticks": ""
           },
           "bgcolor": "#E5ECF6",
           "caxis": {
            "gridcolor": "white",
            "linecolor": "white",
            "ticks": ""
           }
          },
          "title": {
           "x": 0.05
          },
          "xaxis": {
           "automargin": true,
           "gridcolor": "white",
           "linecolor": "white",
           "ticks": "",
           "title": {
            "standoff": 15
           },
           "zerolinecolor": "white",
           "zerolinewidth": 2
          },
          "yaxis": {
           "automargin": true,
           "gridcolor": "white",
           "linecolor": "white",
           "ticks": "",
           "title": {
            "standoff": 15
           },
           "zerolinecolor": "white",
           "zerolinewidth": 2
          }
         }
        },
        "title": {
         "font": {
          "size": 24
         },
         "text": "Chart 4: Do teams share the same fate? <br><sup>Bigger teams seem to benefit from home advantage</sup>"
        },
        "xaxis": {
         "anchor": "y",
         "domain": [
          0,
          1
         ],
         "linecolor": "black",
         "linewidth": 1,
         "showline": true,
         "title": {
          "text": "Number of Cards Shown"
         }
        },
        "yaxis": {
         "anchor": "x",
         "domain": [
          0,
          1
         ],
         "linecolor": "black",
         "linewidth": 1,
         "showline": true,
         "title": {
          "text": "Team"
         }
        }
       }
      }
     },
     "metadata": {},
     "output_type": "display_data"
    }
   ],
   "source": [
    "## Adding dumbell plot to show how teams are affected differently when playing Home or Away\n",
    "## aggregate total cards across all years \n",
    "\n",
    "totalcards = df.groupby('HomeTeam').agg(\n",
    "    Home = pd.NamedAgg(column='HY', aggfunc=sum),\n",
    "    Away = pd.NamedAgg(column='AY', aggfunc=sum)\n",
    ").reset_index().melt(id_vars='HomeTeam')\n",
    "\n",
    "\n",
    "fig = px.scatter(totalcards, x='value', y='HomeTeam', color='variable',\n",
    "                 height=1500,\n",
    "                 title=\"Chart 4: Do teams share the same fate? <br><sup>Bigger teams seem to benefit from home advantage</sup>\",\n",
    "                 labels={\"variable\" : \"\"}\n",
    "                 )\n",
    "\n",
    "## add line \n",
    "for i in totalcards['HomeTeam'].unique():\n",
    "    df_sub = totalcards[totalcards['HomeTeam'] == i]\n",
    "    \n",
    "    fig.add_shape(\n",
    "            type=\"line\",\n",
    "            line_color = \"black\",\n",
    "            line_width = 2,\n",
    "            opacity = 0.5,\n",
    "            layer=\"below\",\n",
    "            y0 = df_sub.HomeTeam.values[0], x0 = df_sub.value.values[0],\n",
    "            y1 = df_sub.HomeTeam.values[1], x1 = df_sub.value.values[1],\n",
    "            )\n",
    "fig.update_layout(\n",
    "    font_family = \"Arial\",\n",
    "    title_font_size = 24,\n",
    "    yaxis=dict(\n",
    "        title_text=\"Team\"\n",
    "    ),\n",
    "    xaxis=dict(\n",
    "        title_text = \"Number of Cards Shown\"\n",
    "    ),\n",
    "    paper_bgcolor='rgba(0,0,0,0)',\n",
    "    plot_bgcolor='rgba(0,0,0,0)'\n",
    ")\n",
    "fig.update_xaxes(showline=True, linewidth=1, linecolor='black')\n",
    "fig.update_yaxes(showline=True, linewidth=1, linecolor='black')\n",
    "fig.show()"
   ]
  },
  {
   "cell_type": "markdown",
   "metadata": {},
   "source": [
    "# References\n",
    "<span id=\"fn1\"> 1: Association, T., 2022. Law 5 - The Referee. [online] www.thefa.com. Available at: <https://www.thefa.com/football-rules-governance/lawsandrules/laws/football-11-11/law-5---the-referee> [Accessed 20 August 2022].</span>  \n",
    "\n",
    "<span id=\"fn2\"> 2: Pappas, C., 2011. Theoretical analysis of referee bias in youth hockey. [online] Digscholarship.unco.edu. Available at: <https://digscholarship.unco.edu/cgi/viewcontent.cgi?article=1069&context=theses> [Accessed 20 August 2022].</span>  \n",
    "\n",
    "<span id=\"fn3\"> 3: Lim, C. and Rodenberg, R., 2022. Payback Calls: A Starting Point for Measuring Basketball Referee Bias and Impact on Team Performance. [online] Papers.ssrn.com. Available at: <https://papers.ssrn.com/sol3/papers.cfm?abstract_id=1584967> [Accessed 23 August 2022].</span>\n",
    "\n",
    "<span id=\"fn4\"> 4: Association, F., 2022. Law 12 - Fouls and Misconduct. [online] www.thefa.com. Available at: <https://www.thefa.com/football-rules-governance/lawsandrules/laws/football-11-11/law-12---fouls-and-misconduct> [Accessed 20 August 2022].</span>  \n"
   ]
  }
 ],
 "metadata": {
  "interpreter": {
   "hash": "97ae724bfa85b9b34df7982b8bb8c7216f435b92902d749e4263f71162bea840"
  },
  "kernelspec": {
   "display_name": "Python 3.6.5 ('base')",
   "language": "python",
   "name": "python3"
  },
  "language_info": {
   "codemirror_mode": {
    "name": "ipython",
    "version": 3
   },
   "file_extension": ".py",
   "mimetype": "text/x-python",
   "name": "python",
   "nbconvert_exporter": "python",
   "pygments_lexer": "ipython3",
   "version": "3.6.5"
  },
  "orig_nbformat": 4
 },
 "nbformat": 4,
 "nbformat_minor": 2
}

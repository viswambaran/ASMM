{
 "cells": [
  {
   "cell_type": "markdown",
   "metadata": {},
   "source": [
    "# Are referees bias towards the home team in the Premier League?"
   ]
  },
  {
   "cell_type": "markdown",
   "metadata": {},
   "source": [
    "# Dataset information \n",
    "\n",
    "Data taken from [https://www.football-data.co.uk](https://www.football-data.co.uk)\n",
    "\n",
    "Key to results data:  \n",
    "\n",
    "- Div = League Division\n",
    "- Date = Match Date (dd/mm/yy)\n",
    "- Time = Time of match kick off\n",
    "- HomeTeam = Home Team\n",
    "- AwayTeam = Away Team\n",
    "- FTHG and HG = Full Time Home Team Goals\n",
    "- FTAG and AG = Full Time Away Team Goals\n",
    "- FTR and Res = Full Time Result (H=Home Win, D=Draw, A=Away Win)\n",
    "- HTHG = Half Time Home Team Goals\n",
    "- HTAG = Half Time Away Team Goals\n",
    "- HTR = Half Time Result (H=Home Win, D=Draw, A=Away Win)  \n",
    "\n",
    "<u> **Match Statistics (where available)** </u>  \n",
    "- Attendance = Crowd Attendance\n",
    "- Referee = Match Referee\n",
    "- HS = Home Team Shots\n",
    "- AS = Away Team Shots\n",
    "- HST = Home Team Shots on Target\n",
    "- AST = Away Team Shots on Target\n",
    "- HHW = Home Team Hit Woodwork\n",
    "- AHW = Away Team Hit Woodwork\n",
    "- HC = Home Team Corners\n",
    "- AC = Away Team Corners\n",
    "- HF = Home Team Fouls Committed\n",
    "- AF = Away Team Fouls Committed\n",
    "- HFKC = Home Team Free Kicks Conceded\n",
    "- AFKC = Away Team Free Kicks Conceded\n",
    "- HO = Home Team Offsides\n",
    "- AO = Away Team Offsides\n",
    "- HY = Home Team Yellow Cards\n",
    "- AY = Away Team Yellow Cards\n",
    "- HR = Home Team Red Cards\n",
    "- AR = Away Team Red Cards\n",
    "- HBP = Home Team Bookings Points (10 = yellow, 25 = red)\n",
    "- ABP = Away Team Bookings Points (10 = yellow, 25 = red)\n",
    "\n",
    "*Note that Free Kicks Conceeded includes fouls, offsides and any other offense commmitted and will always be equal to or higher than the number of fouls. Fouls make up the vast majority of Free Kicks Conceded. Free Kicks Conceded are shown when specific data on Fouls are not available (France 2nd, Belgium 1st and Greece 1st divisions).*\n",
    "\n",
    "*Note also that English and Scottish yellow cards do not include the initial yellow card when a second is shown to a player converting it into a red, but this is included as a yellow (plus red) for European games.*\n"
   ]
  },
  {
   "cell_type": "code",
   "execution_count": 1,
   "metadata": {},
   "outputs": [],
   "source": [
    "# Importing packages ------------------------------------------------------\n",
    "\n",
    "import pandas as pd\n",
    "import numpy as np \n",
    "import os \n",
    "\n",
    "# Reading in data ------------------------------------------------------\n",
    "\n",
    "years = np.arange(5,23) \n",
    "years_1 = np.arange(6,24)\n",
    "\n",
    "## Convert to string and add trailing 0 \n",
    "## required for website url data is stored on \n",
    "\n",
    "years = years.astype(str)\n",
    "years = np.char.zfill(years, 2)\n",
    "\n",
    "years_1 = years_1.astype(str)\n",
    "years_1 = np.char.zfill(years_1, 2)\n",
    "\n",
    "## Combining to give out the final years\n",
    "url_years = np.core.defchararray.add(years, years_1)\n",
    "\n",
    "data_url_base = 'https://www.football-data.co.uk/mmz4281/{Year}/E0.csv'\n",
    "\n",
    "\n",
    "## Check if the data already exists locally (previously compiled incase of no internet)\n",
    "\n",
    "if os.path.exists(\"football_data.csv\"):\n",
    "    df_raw = pd.read_csv(\"football_data.csv\", low_memory=False, index_col=False)\n",
    "else:\n",
    "    ## creating url list with all years needed\n",
    "    ## Also adding delimiter '/' between seasons for new column \n",
    "    data_urls_list = []\n",
    "    season = []\n",
    "    for year in url_years:\n",
    "        url_with_year = data_url_base.replace('{Year}', year)\n",
    "        season_year = year[:2] + '/' + year[2:]\n",
    "        season.append(season_year)\n",
    "        data_urls_list.append(url_with_year)\n",
    "\n",
    "    df_list =[] \n",
    "\n",
    "    for file in enumerate(data_urls_list):\n",
    "        df = pd.read_csv(file[1])\n",
    "        df['Season'] = season[file[0]]\n",
    "        df_list.append(df)\n",
    "    \n",
    "    df = pd.concat(df_list, ignore_index=True)\n",
    "\n"
   ]
  },
  {
   "cell_type": "markdown",
   "metadata": {},
   "source": [
    "## Introduction\n",
    "In this report, we test for, and look to find evidence of, referee bias in favor of home teams in the English Premier League using data for all matches between 2005 and 2022 (current season). A role of the referee is to govern the rules set out by the Football Association (FA) during a football match. \n",
    "\n",
    "According to the IFAB Laws of the game 2022-23:  \n",
    ">Decisions will be made to the best of the referee's ability according to the Laws of the Game and the 'spirit of the game' and will be based on the opinion of the referee who has the discretion to take appropriate action within the framework of the Laws of the Game.(Association, 2022)[<sup>1</sup>](#fn1)\n",
    "\n",
    "There will always be a concern of the referees exercising impartial or bias decisions in favour of a team specifically the home team. In this situation, there are issues of moral hazard and conflicts of interest where I explore whether the the number of sanctions (Yellow cards, Red cards, free kicks and penalties etc) awarded by referees are subject to some bias whether the team playing is at home and behaviour of the referee is somewhat influenced by various other factors such as crowd attendance. \n",
    "\n",
    "Often these split decisions that can decide games taken by referees can often have huge financial implications for teams. For example, if a decision cost a team the game which meant they miss out of qualifying for the UEFA Champions League this could mean the difference between extra revenue for the club as well as attracting top talent for the season ahead. It can also have implications for the manager who may find himself out of a job especially if this forms part of their contract.\n",
    "\n",
    "These decisions that affect the overall match result provide fuel for debate between players, teams, pundits, journalists and your average fan, in some cases for years into the foreseeable future.  \n",
    "\n",
    "This concern is nothing new football fans across the global in multiple leagues since time can remember have complained about refereeing decisions. Some recent articles are linked below for reference. There are several fans who even claim conspiracies against their clubs by certain referees and managers have openly expressed dismay when particular match officials are appointed to officiate their matches.  \n",
    "\n",
    "[https://www.newcastleworld.com/sport/football/newcastle-united/i-hate-sunderland-premier-league-referee-on-bias-and-love-for-newcastle-united-3812928](https://www.newcastleworld.com/sport/football/newcastle-united/i-hate-sunderland-premier-league-referee-on-bias-and-love-for-newcastle-united-3812928)  \n",
    "[https://www.football365.com/news/mailbox-arsenal-var-referee-conspiracy-man-utd-elon-musk-lionesses](https://www.football365.com/news/mailbox-arsenal-var-referee-conspiracy-man-utd-elon-musk-lionesses)  \n",
    "[https://www.thesportsman.com/articles/tuchel-s-fury-and-87k-petitions-but-referees-are-not-biased-against-your-team](https://www.thesportsman.com/articles/tuchel-s-fury-and-87k-petitions-but-referees-are-not-biased-against-your-team)  \n",
    "[https://www.caughtoffside.com/2022/08/16/anthony-taylor-to-continue-to-referee-chelsea-games/](https://www.caughtoffside.com/2022/08/16/anthony-taylor-to-continue-to-referee-chelsea-games/)  \n",
    "[https://www.football365.com/news/mailbox-liverpool-1-1-palace-darwin-nunez-man-utd-arsenal](https://www.football365.com/news/mailbox-liverpool-1-1-palace-darwin-nunez-man-utd-arsenal)  \n",
    "\n",
    "\n",
    "This bias however is not just limited to football it can be observed in all sporting competitions. There are numerous studies on this and have been explored for example in hockey (Pappas, 2011)[<sup>2</sup>](#fn2) and in basketball for the well known National Basketball Assocation (NBA) competition (Rodenberg and Lim 2009)"
   ]
  },
  {
   "cell_type": "code",
   "execution_count": null,
   "metadata": {},
   "outputs": [],
   "source": [
    "# Dataset "
   ]
  },
  {
   "cell_type": "code",
   "execution_count": 4,
   "metadata": {},
   "outputs": [],
   "source": []
  },
  {
   "cell_type": "markdown",
   "metadata": {},
   "source": [
    "# References\n",
    "<span id=\"fn1\"> 1: Association, T., 2022. Law 5 - The Referee. [online] www.thefa.com. Available at: <https://www.thefa.com/football-rules-governance/lawsandrules/laws/football-11-11/law-5---the-referee> [Accessed 20 August 2022].</span>  \n",
    "\n",
    "<span id=\"fn2\"> 2: Pappas, C., 2011. Theoretical analysis of referee bias in youth hockey. [online] Digscholarship.unco.edu. Available at: <https://digscholarship.unco.edu/cgi/viewcontent.cgi?article=1069&context=theses> [Accessed 20 August 2022].</span>\n"
   ]
  },
  {
   "cell_type": "markdown",
   "metadata": {},
   "source": []
  }
 ],
 "metadata": {
  "interpreter": {
   "hash": "97ae724bfa85b9b34df7982b8bb8c7216f435b92902d749e4263f71162bea840"
  },
  "kernelspec": {
   "display_name": "Python 3.6.5 ('base')",
   "language": "python",
   "name": "python3"
  },
  "language_info": {
   "codemirror_mode": {
    "name": "ipython",
    "version": 3
   },
   "file_extension": ".py",
   "mimetype": "text/x-python",
   "name": "python",
   "nbconvert_exporter": "python",
   "pygments_lexer": "ipython3",
   "version": "3.6.5"
  },
  "orig_nbformat": 4
 },
 "nbformat": 4,
 "nbformat_minor": 2
}

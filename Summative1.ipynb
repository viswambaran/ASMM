{
 "cells": [
  {
   "cell_type": "code",
   "execution_count": null,
   "metadata": {},
   "outputs": [],
   "source": [
    "import numpy as np\n",
    "import matplotlib.pyplot as plt"
   ]
  },
  {
   "cell_type": "code",
   "execution_count": 3,
   "metadata": {},
   "outputs": [
    {
     "data": {
      "image/png": "[encoded data removed]",
      "text/plain": [
       "<Figure size 432x288 with 1 Axes>"
      ]
     },
     "metadata": {},
     "output_type": "display_data"
    }
   ],
   "source": [
    "#Q1b\n",
    "\n",
    "U = np.array([2,3,1])\n",
    "V = np.array([0,5,4])\n",
    "\n",
    "## adding vectors \n",
    "\n",
    "Q = np.add(U, V)\n",
    "\n",
    "\n",
    "\n",
    "## Plotting the result \n",
    "plt.quiver([0, 0, 0], [0, 0, 0] ,U, V, Q, scale=20)\n",
    "plt.xlim(-10, 10)\n",
    "plt.ylim(-10, 10)\n",
    "plt.show()\n"
   ]
  },
  {
   "cell_type": "code",
   "execution_count": 29,
   "metadata": {},
   "outputs": [
    {
     "name": "stdout",
     "output_type": "stream",
     "text": [
      "19\n"
     ]
    }
   ],
   "source": [
    "## 1e\n",
    "## Code to calculate dot product of vectrs UV \n",
    "\n",
    "uv = U@V\n",
    "\n",
    "## Alternative \n",
    "uv_alt = np.dot(U, V)\n",
    "\n",
    "print(uv)"
   ]
  },
  {
   "cell_type": "code",
   "execution_count": 7,
   "metadata": {},
   "outputs": [
    {
     "name": "stdout",
     "output_type": "stream",
     "text": [
      "[ 7 -8 10]\n"
     ]
    },
    {
     "data": {
      "image/png": "[encoded data removed]",
      "text/plain": [
       "<Figure size 432x288 with 1 Axes>"
      ]
     },
     "metadata": {},
     "output_type": "display_data"
    }
   ],
   "source": [
    "## 1h \n",
    "## find the cross product of UV \n",
    "\n",
    "crossUV = np.cross(U, V)\n",
    "\n",
    "print(crossUV)\n",
    "\n",
    "# plot the resulting vector \n",
    "plt.quiver([0, 0, 0] , [0,0,0],U, V, crossUV, scale=20)\n",
    "plt.xlim(-10, 10)\n",
    "plt.ylim(-10, 10)\n",
    "plt.show()"
   ]
  },
  {
   "cell_type": "code",
   "execution_count": 13,
   "metadata": {},
   "outputs": [
    {
     "name": "stdout",
     "output_type": "stream",
     "text": [
      "Matrix : Matrix([[1, 2], [0, 0]]) \n",
      "Columnspace of a matrix : [Matrix([\n",
      "[1],\n",
      "[0]])]\n",
      "Nullspace of a matrix : [Matrix([\n",
      "[-2],\n",
      "[ 1]])]\n"
     ]
    }
   ],
   "source": [
    "##4e\n",
    "\n",
    "## null space and column space\n",
    "\n",
    "A = np.array([[1,2], [0,0]])\n",
    "\n",
    "from sympy import *\n",
    "M = Matrix([[1,2], [0,0]])\n",
    "print(\"Matrix : {} \".format(M))\n",
    "# Use sympy.columnspace() method\n",
    "M_columnspace = M.columnspace()\n",
    "print(\"Columnspace of a matrix : {}\".format(M_columnspace))\n",
    "M_nullspace = M.nullspace()\n",
    "print(\"Nullspace of a matrix : {}\".format(\n",
    "M_nullspace))\n"
   ]
  },
  {
   "cell_type": "code",
   "execution_count": null,
   "metadata": {},
   "outputs": [],
   "source": []
  }
 ],
 "metadata": {
  "interpreter": {
   "hash": "97ae724bfa85b9b34df7982b8bb8c7216f435b92902d749e4263f71162bea840"
  },
  "kernelspec": {
   "display_name": "Python 3.6.5 ('base')",
   "language": "python",
   "name": "python3"
  },
  "language_info": {
   "codemirror_mode": {
    "name": "ipython",
    "version": 3
   },
   "file_extension": ".py",
   "mimetype": "text/x-python",
   "name": "python",
   "nbconvert_exporter": "python",
   "pygments_lexer": "ipython3",
   "version": "3.6.5"
  },
  "orig_nbformat": 4
 },
 "nbformat": 4,
 "nbformat_minor": 2
}
